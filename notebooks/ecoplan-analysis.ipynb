{
 "cells": [
  {
   "cell_type": "markdown",
   "id": "5333e86a",
   "metadata": {},
   "source": [
    "# EcoPlan Urbano – Análisis integrado\n",
    "Este notebook reproduce la lógica del manual metodológico: descarga colecciones satelitales, calcula índices compuestos (vegetación, calor, calidad del aire, riesgo hídrico) e integra datos socioeconómicos para generar capas listas para paneles o reportes."
   ]
  },
  {
   "cell_type": "code",
   "execution_count": null,
   "id": "487ef2ea",
   "metadata": {},
   "outputs": [],
   "source": [
    "import ee\n",
    "import geemap\n",
    "import datetime\n",
    "\n",
    "ee.Initialize(project='github-nasa')\n",
    "\n",
    "# Parámetros de ejecución\n",
    "AOI = ee.Geometry.Polygon([[\n",
    "START_DATE = '2024-01-01'\n",
    "END_DATE = '2024-12-31'\n",
    "CLOUD_PCT = 20"
   ]
  },
  {
   "cell_type": "code",
   "execution_count": null,
   "id": "65301766",
   "metadata": {},
   "outputs": [],
   "source": [
    "def mask_sentinel2(image):\n",
    "    scl = image.select('SCL')\n",
    "    mask = scl.neq(3).And(scl.neq(7)).And(scl.neq(8)).And(scl.neq(9)).And(scl.neq(10)).And(scl.neq(11))\n",
    "    return image.updateMask(mask)\n",
    "\n",
    "sentinel = ee.ImageCollection('COPERNICUS/S2_SR_HARMONIZED')\n",
    "sentinel = (sentinel\n",
    "\n",
    "ndvi = sentinel.map(lambda img: img.normalizedDifference(['B8', 'B4']).rename('NDVI'))\n",
    "ndwi = sentinel.map(lambda img: img.normalizedDifference(['B3', 'B8']).rename('NDWI'))\n",
    "ndbi = sentinel.map(lambda img: img.normalizedDifference(['B11', 'B8']).rename('NDBI'))\n",
    "\n",
    "ndvi_max = ndvi.qualityMosaic('NDVI').clip(AOI)\n",
    "ndwi_mean = ndwi.mean().clip(AOI)\n",
    "impervious = ndbi.median().clip(AOI)\n",
    "\n",
    "landsat = ee.ImageCollection('LANDSAT/LC08/C02/T1_L2')\n",
    "\n",
    "def add_lst(image):\n",
    "    lst = image.select('ST_B10').multiply(0.00341802).add(149).subtract(273.15)\n",
    "    return image.addBands(lst.rename('LST_C'))\n",
    "\n",
    "lst = landsat.map(add_lst).median().select('LST_C').clip(AOI)\n",
    "\n",
    "aod = ee.ImageCollection('MODIS/061/MOD08_M3')\n",
    "\n",
    "no2 = ee.ImageCollection('COPERNICUS/S5P/OFFL/L3_NO2')\n",
    "\n",
    "pm25 = ee.ImageCollection('NASA/SEDAC/SDG/SDG11_6_2/PM2_5')\n",
    "\n",
    "srtm = ee.Image('USGS/SRTMGL1_003').clip(AOI)\n",
    "slope = ee.Terrain.slope(srtm).rename('Slope')\n",
    "\n",
    "green_mask = ndvi_max.select('NDVI').gt(0.4)\n",
    "green_area = green_mask.multiply(ee.Image.pixelArea())\n",
    "population = ee.ImageCollection('CIESIN/GPWv411/GPW_Population_Count')\n",
    "\n",
    "pixel_population = population.max(ee.Image.constant(1))\n",
    "green_per_capita = green_area.divide(pixel_population).rename('GreenPerCapita')"
   ]
  },
  {
   "cell_type": "code",
   "execution_count": null,
   "id": "c3e40ec8",
   "metadata": {},
   "outputs": [],
   "source": [
    "Map = geemap.Map(center=[-12.05, -77.05], zoom=11)\n",
    "Map.addLayer(ndvi_max.select('NDVI'), {'min': -0.2, 'max': 0.8, 'palette': ['#002651', '#22c55e']}, 'NDVI máximo')\n",
    "Map.addLayer(lst, {'min': 20, 'max': 40, 'palette': ['#00b3ff', '#f97316', '#7f1d1d']}, 'Temperatura superficial (°C)')\n",
    "Map.addLayer(aod, {'min': 0, 'max': 1.5, 'palette': ['#22c55e', '#facc15', '#b91c1c']}, 'AOD promedio')\n",
    "Map.addLayer(no2, {'min': 0, 'max': 3e-4, 'palette': ['#0ea5e9', '#f97316', '#7f1d1d']}, 'NO₂ troposférico')\n",
    "Map.addLayer(pm25, {'min': 0, 'max': 80, 'palette': ['#22c55e', '#f97316', '#7f1d1d']}, 'PM₂.₅ estimado')\n",
    "Map.addLayer(green_per_capita, {'min': 0, 'max': 30, 'palette': ['#7f1d1d', '#facc15', '#22c55e']}, 'm² de áreas verdes por habitante')\n",
    "Map.add_colorbar(label='Escala normalizada', cmap='RdYlGn', vmin=0, vmax=1)\n",
    "Map"
   ]
  }
 ],
 "metadata": {
  "language_info": {
   "name": "python"
  }
 },
 "nbformat": 4,
 "nbformat_minor": 5
}
